{
 "cells": [
  {
   "cell_type": "code",
   "execution_count": 2,
   "outputs": [
    {
     "ename": "ModuleNotFoundError",
     "evalue": "No module named 'google'",
     "output_type": "error",
     "traceback": [
      "\u001B[0;31m---------------------------------------------------------------------------\u001B[0m",
      "\u001B[0;31mModuleNotFoundError\u001B[0m                       Traceback (most recent call last)",
      "Cell \u001B[0;32mIn[2], line 10\u001B[0m\n\u001B[1;32m      8\u001B[0m \u001B[38;5;28;01mimport\u001B[39;00m \u001B[38;5;21;01mzipfile\u001B[39;00m\n\u001B[1;32m      9\u001B[0m \u001B[38;5;28;01mimport\u001B[39;00m \u001B[38;5;21;01mtime\u001B[39;00m\n\u001B[0;32m---> 10\u001B[0m \u001B[38;5;28;01mfrom\u001B[39;00m \u001B[38;5;21;01mgoogle\u001B[39;00m\u001B[38;5;21;01m.\u001B[39;00m\u001B[38;5;21;01mcolab\u001B[39;00m \u001B[38;5;28;01mimport\u001B[39;00m drive\n\u001B[1;32m     11\u001B[0m get_ipython()\u001B[38;5;241m.\u001B[39mrun_line_magic(\u001B[38;5;124m'\u001B[39m\u001B[38;5;124mmatplotlib\u001B[39m\u001B[38;5;124m'\u001B[39m, \u001B[38;5;124m'\u001B[39m\u001B[38;5;124minline\u001B[39m\u001B[38;5;124m'\u001B[39m)\n",
      "\u001B[0;31mModuleNotFoundError\u001B[0m: No module named 'google'"
     ]
    }
   ],
   "source": [
    "import matplotlib.pyplot as plt\n",
    "import numpy as np\n",
    "import pandas as pd\n",
    "import gdown\n",
    "from fastai.vision import *\n",
    "from fastai.metrics import accuracy, top_k_accuracy\n",
    "from annoy import AnnoyIndex\n",
    "import zipfile\n",
    "import time\n",
    "from google.colab import drive\n",
    "%matplotlib inline"
   ],
   "metadata": {
    "collapsed": false,
    "pycharm": {
     "name": "#%%\n"
    }
   }
  },
  {
   "cell_type": "code",
   "execution_count": 3,
   "outputs": [
    {
     "name": "stderr",
     "output_type": "stream",
     "text": [
      "Downloading...\n",
      "From: https://drive.google.com/uc?id=0B7EVK8r0v71pWnFiNlNGTVloLUk\n",
      "To: /Users/andryousha/Projects/Python_projects/recsys/fashion/list_category_cloth.txt\n",
      "100%|██████████| 882/882 [00:00<00:00, 6.35MB/s]\n",
      "Downloading...\n",
      "From: https://drive.google.com/uc?id=0B7EVK8r0v71pTGNoWkhZeVpzbFk\n",
      "To: /Users/andryousha/Projects/Python_projects/recsys/fashion/list_category_img.txt\n",
      "100%|██████████| 21.4M/21.4M [00:02<00:00, 9.33MB/s]\n",
      "Downloading...\n",
      "From: https://drive.google.com/uc?id=0B7EVK8r0v71pdS1FMlNreEwtc1E\n",
      "To: /Users/andryousha/Projects/Python_projects/recsys/fashion/list_eval_partition.txt\n",
      "100%|██████████| 22.2M/22.2M [00:02<00:00, 9.36MB/s]\n"
     ]
    },
    {
     "data": {
      "text/plain": "'list_eval_partition.txt'"
     },
     "execution_count": 3,
     "metadata": {},
     "output_type": "execute_result"
    }
   ],
   "source": [
    "# get the meta data\n",
    "url = 'https://drive.google.com/uc?id=0B7EVK8r0v71pWnFiNlNGTVloLUk'\n",
    "output = 'list_category_cloth.txt'\n",
    "gdown.download(url, output, quiet=False)\n",
    "\n",
    "url = 'https://drive.google.com/uc?id=0B7EVK8r0v71pTGNoWkhZeVpzbFk'\n",
    "output = 'list_category_img.txt'\n",
    "gdown.download(url, output, quiet=False)\n",
    "\n",
    "url = 'https://drive.google.com/uc?id=0B7EVK8r0v71pdS1FMlNreEwtc1E'\n",
    "output = 'list_eval_partition.txt'\n",
    "gdown.download(url, output, quiet=False)"
   ],
   "metadata": {
    "collapsed": false,
    "pycharm": {
     "name": "#%%\n"
    }
   }
  },
  {
   "cell_type": "code",
   "execution_count": null,
   "outputs": [
    {
     "name": "stderr",
     "output_type": "stream",
     "text": [
      "Downloading...\n",
      "From (uriginal): https://drive.google.com/uc?id=1j5fCPgh0gnY6v7ChkWlgnnHH6unxuAbb\n",
      "From (redirected): https://drive.google.com/uc?id=1j5fCPgh0gnY6v7ChkWlgnnHH6unxuAbb&confirm=t&uuid=a3698417-a23e-4d74-945a-3799cb573119\n",
      "To: /Users/andryousha/Projects/Python_projects/recsys/fashion/img.zip\n",
      "100%|██████████| 2.68G/2.68G [04:42<00:00, 9.48MB/s]\n"
     ]
    }
   ],
   "source": [
    "# get the images\n",
    "root_path = './'\n",
    "url = 'https://drive.google.com/uc?id=1j5fCPgh0gnY6v7ChkWlgnnHH6unxuAbb'\n",
    "output = 'img.zip'\n",
    "gdown.download(url, output, quiet=False)\n",
    "with zipfile.ZipFile(\"img.zip\",\"r\") as zip_ref:\n",
    "    zip_ref.extractall(root_path)"
   ],
   "metadata": {
    "collapsed": false,
    "pycharm": {
     "name": "#%%\n"
    }
   }
  },
  {
   "cell_type": "code",
   "execution_count": null,
   "outputs": [],
   "source": [],
   "metadata": {
    "collapsed": false,
    "pycharm": {
     "name": "#%%\n"
    }
   }
  }
 ],
 "metadata": {
  "kernelspec": {
   "display_name": "Python 3",
   "language": "python",
   "name": "python3"
  },
  "language_info": {
   "codemirror_mode": {
    "name": "ipython",
    "version": 2
   },
   "file_extension": ".py",
   "mimetype": "text/x-python",
   "name": "python",
   "nbconvert_exporter": "python",
   "pygments_lexer": "ipython2",
   "version": "2.7.6"
  }
 },
 "nbformat": 4,
 "nbformat_minor": 0
}